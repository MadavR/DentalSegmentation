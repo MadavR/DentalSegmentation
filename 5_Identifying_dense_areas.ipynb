{
 "cells": [
  {
   "cell_type": "code",
   "execution_count": 4,
   "metadata": {},
   "outputs": [],
   "source": [
    "# import cv2\n",
    "import matplotlib.pyplot as plt\n",
    "import numpy as np\n",
    "import pandas as pd\n",
    "\n",
    "from pca import pca\n",
    "from sklearn.cluster import DBSCAN\n",
    "from sklearn.decomposition import PCA\n",
    "from sklearn.preprocessing import StandardScaler"
   ]
  },
  {
   "cell_type": "code",
   "execution_count": 3,
   "metadata": {},
   "outputs": [
    {
     "data": {
      "text/plain": [
       "(910, 11)"
      ]
     },
     "execution_count": 3,
     "metadata": {},
     "output_type": "execute_result"
    }
   ],
   "source": [
    "df = pd.read_hdf('2_Cleaned_dataset/images.h5', key='data')\n",
    "df.shape"
   ]
  },
  {
   "cell_type": "code",
   "execution_count": 70,
   "metadata": {},
   "outputs": [
    {
     "data": {
      "text/plain": [
       "numpy.ndarray"
      ]
     },
     "execution_count": 70,
     "metadata": {},
     "output_type": "execute_result"
    }
   ],
   "source": [
    "type(df[0:1].image[0])"
   ]
  },
  {
   "cell_type": "code",
   "execution_count": 29,
   "metadata": {},
   "outputs": [],
   "source": [
    "def get_dataset(column='image'):\n",
    "    # Aplanamos las imágenes antes de crear una matriz de valores estandarizados\n",
    "    X = np.stack(df[column].apply(lambda x: x.flatten()))\n",
    "    scaler = StandardScaler()\n",
    "    X_standardized = scaler.fit_transform(X)\n",
    "\n",
    "    # Crea un DataFrame a partir de los datos escalados\n",
    "    X_standardized_df = pd.DataFrame(X_standardized)\n",
    "\n",
    "    pca_model = PCA(n_components=700)\n",
    "    pca_model.fit(X_standardized_df)\n",
    "    return pca_model.transform(X_standardized_df)"
   ]
  },
  {
   "cell_type": "code",
   "execution_count": 30,
   "metadata": {},
   "outputs": [
    {
     "data": {
      "text/plain": [
       "(910, 700)"
      ]
     },
     "execution_count": 30,
     "metadata": {},
     "output_type": "execute_result"
    }
   ],
   "source": [
    "df_images = get_dataset()\n",
    "df_images.shape"
   ]
  },
  {
   "cell_type": "code",
   "execution_count": 76,
   "metadata": {},
   "outputs": [
    {
     "data": {
      "text/plain": [
       "numpy.ndarray"
      ]
     },
     "execution_count": 76,
     "metadata": {},
     "output_type": "execute_result"
    }
   ],
   "source": [
    "type(df_images[0:1][0])"
   ]
  },
  {
   "cell_type": "code",
   "execution_count": 100,
   "metadata": {},
   "outputs": [
    {
     "data": {
      "text/plain": [
       "700"
      ]
     },
     "execution_count": 100,
     "metadata": {},
     "output_type": "execute_result"
    }
   ],
   "source": [
    "len(df_images[0:1][0])"
   ]
  },
  {
   "cell_type": "code",
   "execution_count": 111,
   "metadata": {},
   "outputs": [
    {
     "data": {
      "image/png": "[encoded data removed]",
      "text/plain": [
       "<Figure size 640x480 with 1 Axes>"
      ]
     },
     "metadata": {},
     "output_type": "display_data"
    }
   ],
   "source": [
    "imagen_reducida = df_images[0:1]\n",
    "dbscan = DBSCAN(eps=0.001, min_samples=1000, metric='cosine')\n",
    "dbscan.fit(imagen_reducida)\n",
    "\n",
    "# Visualizar los resultados\n",
    "plt.scatter(imagen_reducida[:,0], imagen_reducida[:,1], c=dbscan.labels_)\n",
    "plt.show()"
   ]
  },
  {
   "cell_type": "code",
   "execution_count": 90,
   "metadata": {},
   "outputs": [
    {
     "data": {
      "text/plain": [
       "array([0, 0, 1, 0, 0, 0, 1, 1, 1, 0, 0, 0, 0, 0, 0, 1, 1, 1, 1, 0, 0, 0,\n",
       "       0, 0, 0, 1, 1, 0, 0, 1, 1, 1, 0, 0, 1, 1, 0, 0, 0, 1, 0, 1, 1, 0,\n",
       "       0, 0, 0, 1, 1, 0, 0, 0, 1, 1, 1, 0, 0, 1, 0, 1, 0, 1, 0, 1, 1, 1,\n",
       "       0, 0, 0, 0, 1, 1, 0, 0, 0, 1, 1, 0, 1, 1, 1, 0, 1, 1, 0, 0, 1, 0,\n",
       "       0, 1, 1, 0, 0, 0, 0, 1, 0, 1, 1, 1, 1, 0, 1, 1, 1, 1, 1, 0, 0, 1,\n",
       "       0, 1, 1, 1, 1, 0, 1, 1, 0, 0, 0, 1, 1, 0, 1, 1, 1, 0, 0, 1, 0, 1,\n",
       "       0, 1, 1, 1, 0, 1, 0, 1, 0, 1, 1, 1, 1, 0, 0, 0, 1, 1, 1, 0, 1, 0,\n",
       "       1, 1, 0, 1, 0, 1, 0, 0, 0, 0, 0, 1, 0, 1, 0, 0, 1, 0, 1, 1, 1, 0,\n",
       "       0, 1, 0, 1, 1, 0, 1, 1, 0, 1, 0, 0, 0, 0, 1, 1, 0, 0, 1, 0, 0, 1,\n",
       "       0, 1, 0, 0, 1, 1, 1, 1, 0, 1, 0, 1, 0, 0, 1, 1, 0, 0, 0, 0, 0, 1,\n",
       "       1, 0, 0, 0, 1, 0, 0, 1, 0, 1, 0, 0, 0, 0, 1, 1, 1, 0, 1, 1, 1, 0,\n",
       "       0, 1, 0, 1, 1, 0, 1, 0, 0, 0, 1, 0, 0, 1, 1, 0, 0, 1, 1, 0, 1, 0,\n",
       "       0, 1, 1, 1, 0, 1, 1, 0, 1, 0, 0, 1, 0, 1, 1, 0, 1, 0, 0, 0, 1, 1,\n",
       "       1, 1, 0, 1, 0, 0, 0, 0, 0, 1, 0, 1, 1, 0, 0, 0, 1, 0, 1, 1, 1, 0,\n",
       "       1, 1, 0, 0, 1, 0, 0, 1, 1, 0, 0, 0, 1, 0, 1, 0, 1, 0, 0, 1, 1, 1,\n",
       "       1, 0, 1, 0, 1, 0, 1, 1, 0, 1, 0, 1, 1, 1, 0, 0, 1, 1, 0, 1, 1, 1,\n",
       "       1, 0, 0, 0, 1, 0, 1, 0, 1, 0, 1, 0, 0, 1, 0, 1, 0, 1, 1, 0, 0, 0,\n",
       "       0, 0, 0, 0, 1, 1, 1, 0, 0, 1, 1, 0, 1, 1, 1, 0, 0, 1, 1, 0, 0, 0,\n",
       "       0, 1, 0, 0, 0, 0, 0, 0, 0, 0, 0, 0, 0, 0, 1, 0, 1, 0, 1, 0, 0, 0,\n",
       "       1, 1, 1, 0, 1, 1, 1, 0, 1, 1, 0, 0, 1, 0, 0, 0, 1, 0, 1, 0, 0, 1,\n",
       "       0, 0, 0, 0, 0, 0, 0, 1, 0, 1, 0, 1, 0, 0, 1, 1, 1, 1, 1, 0, 1, 1,\n",
       "       0, 0, 1, 1, 1, 0, 0, 1, 1, 0, 0, 0, 1, 0, 0, 0, 1, 1, 1, 0, 1, 0,\n",
       "       1, 0, 1, 1, 1, 1, 1, 1, 0, 1, 0, 0, 0, 1, 1, 1, 1, 0, 1, 0, 1, 1,\n",
       "       1, 1, 1, 1, 1, 0, 1, 1, 0, 1, 1, 0, 1, 1, 0, 1, 0, 1, 0, 1, 1, 1,\n",
       "       0, 1, 0, 1, 0, 0, 0, 1, 0, 0, 1, 0, 0, 1, 1, 1, 1, 1, 0, 1, 0, 0,\n",
       "       1, 0, 0, 1, 0, 0, 0, 0, 1, 0, 1, 0, 1, 0, 1, 0, 1, 1, 0, 1, 1, 1,\n",
       "       1, 1, 1, 0, 0, 0, 0, 0, 1, 0, 1, 0, 0, 1, 1, 0, 1, 0, 0, 0, 0, 0,\n",
       "       1, 1, 1, 1, 1, 1, 0, 0, 0, 1, 0, 0, 1, 1, 1, 0, 1, 1, 1, 1, 0, 0,\n",
       "       0, 0, 1, 1, 1, 0, 1, 0, 0, 1, 1, 1, 1, 1, 0, 1, 0, 0, 1, 1, 0, 1,\n",
       "       0, 1, 1, 1, 1, 0, 1, 0, 0, 0, 0, 1, 0, 0, 0, 1, 0, 1, 0, 0, 1, 0,\n",
       "       1, 1, 0, 0, 1, 0, 0, 1, 0, 0, 1, 0, 1, 1, 1, 0, 1, 0, 0, 1, 0, 1,\n",
       "       0, 1, 1, 0, 1, 1, 1, 0, 0, 1, 1, 0, 1, 0, 1, 1, 0, 0], dtype=int64)"
      ]
     },
     "execution_count": 90,
     "metadata": {},
     "output_type": "execute_result"
    }
   ],
   "source": [
    "image = df_images[0:1][0]\n",
    "\n",
    "# Convierte la fila en un arreglo NumPy\n",
    "X = image.reshape(-1, 1)\n",
    "\n",
    "# Crea y ajusta el modelo DBSCAN\n",
    "dbscan = DBSCAN(eps=1, min_samples=10, metric='cosine')\n",
    "clusters = dbscan.fit_predict(X)\n",
    "clusters"
   ]
  },
  {
   "cell_type": "code",
   "execution_count": 112,
   "metadata": {},
   "outputs": [
    {
     "data": {
      "text/plain": [
       "700"
      ]
     },
     "execution_count": 112,
     "metadata": {},
     "output_type": "execute_result"
    }
   ],
   "source": [
    "len(clusters)"
   ]
  },
  {
   "cell_type": "code",
   "execution_count": 96,
   "metadata": {},
   "outputs": [
    {
     "ename": "ValueError",
     "evalue": "cannot reshape array of size 700 into shape (188,398)",
     "output_type": "error",
     "traceback": [
      "\u001b[1;31m---------------------------------------------------------------------------\u001b[0m",
      "\u001b[1;31mValueError\u001b[0m                                Traceback (most recent call last)",
      "\u001b[1;32mc:\\Users\\Dayron Cuadros\\Documents\\Uniandes\\C5\\Aprendizaje no supervisado\\DentalSegmentation\\5_Identifying_dense_areas.ipynb Cell 10\u001b[0m line \u001b[0;36m1\n\u001b[0;32m     <a href='vscode-notebook-cell:/c%3A/Users/Dayron%20Cuadros/Documents/Uniandes/C5/Aprendizaje%20no%20supervisado/DentalSegmentation/5_Identifying_dense_areas.ipynb#X25sZmlsZQ%3D%3D?line=9'>10</a>\u001b[0m mask_noise \u001b[39m=\u001b[39m (labels \u001b[39m==\u001b[39m \u001b[39m-\u001b[39m\u001b[39m1\u001b[39m)\n\u001b[0;32m     <a href='vscode-notebook-cell:/c%3A/Users/Dayron%20Cuadros/Documents/Uniandes/C5/Aprendizaje%20no%20supervisado/DentalSegmentation/5_Identifying_dense_areas.ipynb#X25sZmlsZQ%3D%3D?line=11'>12</a>\u001b[0m \u001b[39m# Mostrar la imagen original en escala de grises\u001b[39;00m\n\u001b[1;32m---> <a href='vscode-notebook-cell:/c%3A/Users/Dayron%20Cuadros/Documents/Uniandes/C5/Aprendizaje%20no%20supervisado/DentalSegmentation/5_Identifying_dense_areas.ipynb#X25sZmlsZQ%3D%3D?line=12'>13</a>\u001b[0m image \u001b[39m=\u001b[39m df_images[\u001b[39m0\u001b[39;49m:\u001b[39m1\u001b[39;49m][\u001b[39m0\u001b[39;49m]\u001b[39m.\u001b[39;49mreshape(\u001b[39m188\u001b[39;49m, \u001b[39m398\u001b[39;49m)\n\u001b[0;32m     <a href='vscode-notebook-cell:/c%3A/Users/Dayron%20Cuadros/Documents/Uniandes/C5/Aprendizaje%20no%20supervisado/DentalSegmentation/5_Identifying_dense_areas.ipynb#X25sZmlsZQ%3D%3D?line=13'>14</a>\u001b[0m plt\u001b[39m.\u001b[39mimshow(image, cmap\u001b[39m=\u001b[39m\u001b[39m'\u001b[39m\u001b[39mgray\u001b[39m\u001b[39m'\u001b[39m)\n\u001b[0;32m     <a href='vscode-notebook-cell:/c%3A/Users/Dayron%20Cuadros/Documents/Uniandes/C5/Aprendizaje%20no%20supervisado/DentalSegmentation/5_Identifying_dense_areas.ipynb#X25sZmlsZQ%3D%3D?line=15'>16</a>\u001b[0m \u001b[39m# Colorear los puntos de ruido en rojo\u001b[39;00m\n",
      "\u001b[1;31mValueError\u001b[0m: cannot reshape array of size 700 into shape (188,398)"
     ]
    },
    {
     "data": {
      "text/plain": [
       "<Figure size 1000x600 with 0 Axes>"
      ]
     },
     "metadata": {},
     "output_type": "display_data"
    }
   ],
   "source": [
    "import matplotlib.pyplot as plt\n",
    "\n",
    "# Resultados de DBSCAN\n",
    "labels = clusters\n",
    "\n",
    "# Crear una figura y ejes para el gráfico de dispersión\n",
    "plt.figure(figsize=(10, 6))\n",
    "\n",
    "# Crear una máscara para puntos de ruido (etiqueta -1)\n",
    "mask_noise = (labels == -1)\n",
    "\n",
    "# Mostrar la imagen original en escala de grises\n",
    "image = df_images[0:1][0].reshape(188, 398)\n",
    "plt.imshow(image, cmap='gray')\n",
    "\n",
    "# Colorear los puntos de ruido en rojo\n",
    "image_with_noise = np.copy(image)\n",
    "image_with_noise[mask_noise] = 255  # Colorea los puntos de ruido en blanco (255 en escala de grises)\n",
    "\n",
    "# Mostrar la imagen con los puntos de ruido marcados en rojo\n",
    "plt.imshow(image_with_noise, cmap='gray', alpha=0.7)\n",
    "\n",
    "# Configurar título y leyendas\n",
    "plt.title('Resultados de DBSCAN en la Imagen')\n",
    "plt.colorbar(label='Etiquetas de Clústeres')\n",
    "plt.xlabel('Columna')\n",
    "plt.ylabel('Fila')\n",
    "\n",
    "# Mostrar el gráfico\n",
    "plt.show()\n"
   ]
  },
  {
   "cell_type": "code",
   "execution_count": 64,
   "metadata": {},
   "outputs": [
    {
     "data": {
      "text/plain": [
       "array([-1, -1, -1, -1, -1, -1, -1, -1, -1], dtype=int64)"
      ]
     },
     "execution_count": 64,
     "metadata": {},
     "output_type": "execute_result"
    }
   ],
   "source": [
    "# Tomamos la primer imagen\n",
    "sample_images = df_images[0:9]\n",
    "#X = image.reshape(-1, 1)\n",
    "\n",
    "# Crear y ajustar el modelo DBSCAN\n",
    "dbscan = DBSCAN(eps=1, min_samples=5000)\n",
    "clusters = dbscan.fit_predict(sample_images)\n",
    "clusters"
   ]
  },
  {
   "cell_type": "code",
   "execution_count": 55,
   "metadata": {},
   "outputs": [
    {
     "ename": "ValueError",
     "evalue": "Cannot have number of splits n_splits=5 greater than the number of samples: n_samples=1.",
     "output_type": "error",
     "traceback": [
      "\u001b[1;31m---------------------------------------------------------------------------\u001b[0m",
      "\u001b[1;31mValueError\u001b[0m                                Traceback (most recent call last)",
      "\u001b[1;32mc:\\Users\\Dayron Cuadros\\Documents\\Uniandes\\C5\\Aprendizaje no supervisado\\DentalSegmentation\\5_Identifying_dense_areas.ipynb Cell 7\u001b[0m line \u001b[0;36m2\n\u001b[0;32m     <a href='vscode-notebook-cell:/c%3A/Users/Dayron%20Cuadros/Documents/Uniandes/C5/Aprendizaje%20no%20supervisado/DentalSegmentation/5_Identifying_dense_areas.ipynb#X16sZmlsZQ%3D%3D?line=15'>16</a>\u001b[0m random_search \u001b[39m=\u001b[39m RandomizedSearchCV(\n\u001b[0;32m     <a href='vscode-notebook-cell:/c%3A/Users/Dayron%20Cuadros/Documents/Uniandes/C5/Aprendizaje%20no%20supervisado/DentalSegmentation/5_Identifying_dense_areas.ipynb#X16sZmlsZQ%3D%3D?line=16'>17</a>\u001b[0m     dbscan,              \u001b[39m# Estimador\u001b[39;00m\n\u001b[0;32m     <a href='vscode-notebook-cell:/c%3A/Users/Dayron%20Cuadros/Documents/Uniandes/C5/Aprendizaje%20no%20supervisado/DentalSegmentation/5_Identifying_dense_areas.ipynb#X16sZmlsZQ%3D%3D?line=17'>18</a>\u001b[0m     param_distributions\u001b[39m=\u001b[39mparam_dist,  \u001b[39m# Espacio de búsqueda\u001b[39;00m\n\u001b[1;32m   (...)\u001b[0m\n\u001b[0;32m     <a href='vscode-notebook-cell:/c%3A/Users/Dayron%20Cuadros/Documents/Uniandes/C5/Aprendizaje%20no%20supervisado/DentalSegmentation/5_Identifying_dense_areas.ipynb#X16sZmlsZQ%3D%3D?line=21'>22</a>\u001b[0m     n_jobs\u001b[39m=\u001b[39m\u001b[39m-\u001b[39m\u001b[39m1\u001b[39m            \u001b[39m# Utilizar todos los núcleos de la CPU para paralelizar\u001b[39;00m\n\u001b[0;32m     <a href='vscode-notebook-cell:/c%3A/Users/Dayron%20Cuadros/Documents/Uniandes/C5/Aprendizaje%20no%20supervisado/DentalSegmentation/5_Identifying_dense_areas.ipynb#X16sZmlsZQ%3D%3D?line=22'>23</a>\u001b[0m )\n\u001b[0;32m     <a href='vscode-notebook-cell:/c%3A/Users/Dayron%20Cuadros/Documents/Uniandes/C5/Aprendizaje%20no%20supervisado/DentalSegmentation/5_Identifying_dense_areas.ipynb#X16sZmlsZQ%3D%3D?line=24'>25</a>\u001b[0m \u001b[39m# Ajustar el modelo de búsqueda a tus datos\u001b[39;00m\n\u001b[1;32m---> <a href='vscode-notebook-cell:/c%3A/Users/Dayron%20Cuadros/Documents/Uniandes/C5/Aprendizaje%20no%20supervisado/DentalSegmentation/5_Identifying_dense_areas.ipynb#X16sZmlsZQ%3D%3D?line=25'>26</a>\u001b[0m random_search\u001b[39m.\u001b[39;49mfit(image)\n\u001b[0;32m     <a href='vscode-notebook-cell:/c%3A/Users/Dayron%20Cuadros/Documents/Uniandes/C5/Aprendizaje%20no%20supervisado/DentalSegmentation/5_Identifying_dense_areas.ipynb#X16sZmlsZQ%3D%3D?line=27'>28</a>\u001b[0m \u001b[39m# Obtener los mejores hiperparámetros y el mejor modelo\u001b[39;00m\n\u001b[0;32m     <a href='vscode-notebook-cell:/c%3A/Users/Dayron%20Cuadros/Documents/Uniandes/C5/Aprendizaje%20no%20supervisado/DentalSegmentation/5_Identifying_dense_areas.ipynb#X16sZmlsZQ%3D%3D?line=28'>29</a>\u001b[0m best_params \u001b[39m=\u001b[39m random_search\u001b[39m.\u001b[39mbest_params_\n",
      "File \u001b[1;32mc:\\anaconda3\\envs\\NoSupervisado\\lib\\site-packages\\sklearn\\base.py:1151\u001b[0m, in \u001b[0;36m_fit_context.<locals>.decorator.<locals>.wrapper\u001b[1;34m(estimator, *args, **kwargs)\u001b[0m\n\u001b[0;32m   1144\u001b[0m     estimator\u001b[39m.\u001b[39m_validate_params()\n\u001b[0;32m   1146\u001b[0m \u001b[39mwith\u001b[39;00m config_context(\n\u001b[0;32m   1147\u001b[0m     skip_parameter_validation\u001b[39m=\u001b[39m(\n\u001b[0;32m   1148\u001b[0m         prefer_skip_nested_validation \u001b[39mor\u001b[39;00m global_skip_validation\n\u001b[0;32m   1149\u001b[0m     )\n\u001b[0;32m   1150\u001b[0m ):\n\u001b[1;32m-> 1151\u001b[0m     \u001b[39mreturn\u001b[39;00m fit_method(estimator, \u001b[39m*\u001b[39margs, \u001b[39m*\u001b[39m\u001b[39m*\u001b[39mkwargs)\n",
      "File \u001b[1;32mc:\\anaconda3\\envs\\NoSupervisado\\lib\\site-packages\\sklearn\\model_selection\\_search.py:898\u001b[0m, in \u001b[0;36mBaseSearchCV.fit\u001b[1;34m(self, X, y, groups, **fit_params)\u001b[0m\n\u001b[0;32m    892\u001b[0m     results \u001b[39m=\u001b[39m \u001b[39mself\u001b[39m\u001b[39m.\u001b[39m_format_results(\n\u001b[0;32m    893\u001b[0m         all_candidate_params, n_splits, all_out, all_more_results\n\u001b[0;32m    894\u001b[0m     )\n\u001b[0;32m    896\u001b[0m     \u001b[39mreturn\u001b[39;00m results\n\u001b[1;32m--> 898\u001b[0m \u001b[39mself\u001b[39;49m\u001b[39m.\u001b[39;49m_run_search(evaluate_candidates)\n\u001b[0;32m    900\u001b[0m \u001b[39m# multimetric is determined here because in the case of a callable\u001b[39;00m\n\u001b[0;32m    901\u001b[0m \u001b[39m# self.scoring the return type is only known after calling\u001b[39;00m\n\u001b[0;32m    902\u001b[0m first_test_score \u001b[39m=\u001b[39m all_out[\u001b[39m0\u001b[39m][\u001b[39m\"\u001b[39m\u001b[39mtest_scores\u001b[39m\u001b[39m\"\u001b[39m]\n",
      "File \u001b[1;32mc:\\anaconda3\\envs\\NoSupervisado\\lib\\site-packages\\sklearn\\model_selection\\_search.py:1806\u001b[0m, in \u001b[0;36mRandomizedSearchCV._run_search\u001b[1;34m(self, evaluate_candidates)\u001b[0m\n\u001b[0;32m   1804\u001b[0m \u001b[39mdef\u001b[39;00m \u001b[39m_run_search\u001b[39m(\u001b[39mself\u001b[39m, evaluate_candidates):\n\u001b[0;32m   1805\u001b[0m \u001b[39m    \u001b[39m\u001b[39m\"\"\"Search n_iter candidates from param_distributions\"\"\"\u001b[39;00m\n\u001b[1;32m-> 1806\u001b[0m     evaluate_candidates(\n\u001b[0;32m   1807\u001b[0m         ParameterSampler(\n\u001b[0;32m   1808\u001b[0m             \u001b[39mself\u001b[39;49m\u001b[39m.\u001b[39;49mparam_distributions, \u001b[39mself\u001b[39;49m\u001b[39m.\u001b[39;49mn_iter, random_state\u001b[39m=\u001b[39;49m\u001b[39mself\u001b[39;49m\u001b[39m.\u001b[39;49mrandom_state\n\u001b[0;32m   1809\u001b[0m         )\n\u001b[0;32m   1810\u001b[0m     )\n",
      "File \u001b[1;32mc:\\anaconda3\\envs\\NoSupervisado\\lib\\site-packages\\sklearn\\model_selection\\_search.py:857\u001b[0m, in \u001b[0;36mBaseSearchCV.fit.<locals>.evaluate_candidates\u001b[1;34m(candidate_params, cv, more_results)\u001b[0m\n\u001b[0;32m    837\u001b[0m \u001b[39mif\u001b[39;00m \u001b[39mself\u001b[39m\u001b[39m.\u001b[39mverbose \u001b[39m>\u001b[39m \u001b[39m0\u001b[39m:\n\u001b[0;32m    838\u001b[0m     \u001b[39mprint\u001b[39m(\n\u001b[0;32m    839\u001b[0m         \u001b[39m\"\u001b[39m\u001b[39mFitting \u001b[39m\u001b[39m{0}\u001b[39;00m\u001b[39m folds for each of \u001b[39m\u001b[39m{1}\u001b[39;00m\u001b[39m candidates,\u001b[39m\u001b[39m\"\u001b[39m\n\u001b[0;32m    840\u001b[0m         \u001b[39m\"\u001b[39m\u001b[39m totalling \u001b[39m\u001b[39m{2}\u001b[39;00m\u001b[39m fits\u001b[39m\u001b[39m\"\u001b[39m\u001b[39m.\u001b[39mformat(\n\u001b[0;32m    841\u001b[0m             n_splits, n_candidates, n_candidates \u001b[39m*\u001b[39m n_splits\n\u001b[0;32m    842\u001b[0m         )\n\u001b[0;32m    843\u001b[0m     )\n\u001b[0;32m    845\u001b[0m out \u001b[39m=\u001b[39m parallel(\n\u001b[0;32m    846\u001b[0m     delayed(_fit_and_score)(\n\u001b[0;32m    847\u001b[0m         clone(base_estimator),\n\u001b[0;32m    848\u001b[0m         X,\n\u001b[0;32m    849\u001b[0m         y,\n\u001b[0;32m    850\u001b[0m         train\u001b[39m=\u001b[39mtrain,\n\u001b[0;32m    851\u001b[0m         test\u001b[39m=\u001b[39mtest,\n\u001b[0;32m    852\u001b[0m         parameters\u001b[39m=\u001b[39mparameters,\n\u001b[0;32m    853\u001b[0m         split_progress\u001b[39m=\u001b[39m(split_idx, n_splits),\n\u001b[0;32m    854\u001b[0m         candidate_progress\u001b[39m=\u001b[39m(cand_idx, n_candidates),\n\u001b[0;32m    855\u001b[0m         \u001b[39m*\u001b[39m\u001b[39m*\u001b[39mfit_and_score_kwargs,\n\u001b[0;32m    856\u001b[0m     )\n\u001b[1;32m--> 857\u001b[0m     \u001b[39mfor\u001b[39;00m (cand_idx, parameters), (split_idx, (train, test)) \u001b[39min\u001b[39;00m product(\n\u001b[0;32m    858\u001b[0m         \u001b[39menumerate\u001b[39;49m(candidate_params), \u001b[39menumerate\u001b[39;49m(cv\u001b[39m.\u001b[39;49msplit(X, y, groups))\n\u001b[0;32m    859\u001b[0m     )\n\u001b[0;32m    860\u001b[0m )\n\u001b[0;32m    862\u001b[0m \u001b[39mif\u001b[39;00m \u001b[39mlen\u001b[39m(out) \u001b[39m<\u001b[39m \u001b[39m1\u001b[39m:\n\u001b[0;32m    863\u001b[0m     \u001b[39mraise\u001b[39;00m \u001b[39mValueError\u001b[39;00m(\n\u001b[0;32m    864\u001b[0m         \u001b[39m\"\u001b[39m\u001b[39mNo fits were performed. \u001b[39m\u001b[39m\"\u001b[39m\n\u001b[0;32m    865\u001b[0m         \u001b[39m\"\u001b[39m\u001b[39mWas the CV iterator empty? \u001b[39m\u001b[39m\"\u001b[39m\n\u001b[0;32m    866\u001b[0m         \u001b[39m\"\u001b[39m\u001b[39mWere there no candidates?\u001b[39m\u001b[39m\"\u001b[39m\n\u001b[0;32m    867\u001b[0m     )\n",
      "File \u001b[1;32mc:\\anaconda3\\envs\\NoSupervisado\\lib\\site-packages\\sklearn\\model_selection\\_split.py:370\u001b[0m, in \u001b[0;36m_BaseKFold.split\u001b[1;34m(self, X, y, groups)\u001b[0m\n\u001b[0;32m    368\u001b[0m n_samples \u001b[39m=\u001b[39m _num_samples(X)\n\u001b[0;32m    369\u001b[0m \u001b[39mif\u001b[39;00m \u001b[39mself\u001b[39m\u001b[39m.\u001b[39mn_splits \u001b[39m>\u001b[39m n_samples:\n\u001b[1;32m--> 370\u001b[0m     \u001b[39mraise\u001b[39;00m \u001b[39mValueError\u001b[39;00m(\n\u001b[0;32m    371\u001b[0m         (\n\u001b[0;32m    372\u001b[0m             \u001b[39m\"\u001b[39m\u001b[39mCannot have number of splits n_splits=\u001b[39m\u001b[39m{0}\u001b[39;00m\u001b[39m greater\u001b[39m\u001b[39m\"\u001b[39m\n\u001b[0;32m    373\u001b[0m             \u001b[39m\"\u001b[39m\u001b[39m than the number of samples: n_samples=\u001b[39m\u001b[39m{1}\u001b[39;00m\u001b[39m.\u001b[39m\u001b[39m\"\u001b[39m\n\u001b[0;32m    374\u001b[0m         )\u001b[39m.\u001b[39mformat(\u001b[39mself\u001b[39m\u001b[39m.\u001b[39mn_splits, n_samples)\n\u001b[0;32m    375\u001b[0m     )\n\u001b[0;32m    377\u001b[0m \u001b[39mfor\u001b[39;00m train, test \u001b[39min\u001b[39;00m \u001b[39msuper\u001b[39m()\u001b[39m.\u001b[39msplit(X, y, groups):\n\u001b[0;32m    378\u001b[0m     \u001b[39myield\u001b[39;00m train, test\n",
      "\u001b[1;31mValueError\u001b[0m: Cannot have number of splits n_splits=5 greater than the number of samples: n_samples=1."
     ]
    }
   ],
   "source": [
    "from sklearn.cluster import DBSCAN\n",
    "from sklearn.model_selection import RandomizedSearchCV\n",
    "from scipy.stats import uniform, randint\n",
    "from sklearn.metrics import silhouette_score\n",
    "\n",
    "# Crear un espacio de búsqueda de hiperparámetros\n",
    "param_dist = {\n",
    "    'eps': uniform(0.1, 10.0),        # Rango para eps\n",
    "    'min_samples': randint(2, 100)    # Rango para min_samples\n",
    "}\n",
    "\n",
    "# Crear el modelo DBSCAN\n",
    "dbscan = DBSCAN()\n",
    "\n",
    "# Configurar RandomizedSearchCV\n",
    "random_search = RandomizedSearchCV(\n",
    "    dbscan,              # Estimador\n",
    "    param_distributions=param_dist,  # Espacio de búsqueda\n",
    "    n_iter=1,           # Número de iteraciones aleatorias\n",
    "    cv=5,                # Número de divisiones en la validación cruzada\n",
    "    scoring=silhouette_score,  # Métrica de evaluación (puntuación de silueta)\n",
    "    n_jobs=-1            # Utilizar todos los núcleos de la CPU para paralelizar\n",
    ")\n",
    "\n",
    "# Ajustar el modelo de búsqueda a tus datos\n",
    "random_search.fit(image)\n",
    "\n",
    "# Obtener los mejores hiperparámetros y el mejor modelo\n",
    "best_params = random_search.best_params_\n",
    "best_dbscan = random_search.best_estimator_\n",
    "\n",
    "# Mostrar los mejores resultados\n",
    "print(\"Mejores hiperparámetros:\", best_params)\n",
    "print(\"Mejor puntuación de silueta:\", random_search.best_score_)\n",
    "\n"
   ]
  },
  {
   "cell_type": "code",
   "execution_count": null,
   "metadata": {},
   "outputs": [],
   "source": [
    "# fig, ax = plt.subplots(figsize=(10,8), dpi= 100, facecolor='w', edgecolor='k')\n",
    "# g = plt.scatter(X[:,0], X[:,1], c = clusters, alpha = 0.8)\n",
    "# legend = ax.legend(*g.legend_elements(), loc = \"upper right\", title = \"Clusteres \\n teóricos\")\n",
    "# ax.add_artist(legend)\n",
    "# plt.show()\n",
    "\n",
    "# # # Identificar grupos y puntos ruidosos\n",
    "# # areas_densas = caracteristicas[etiquetas != -1]\n",
    "# # puntos_ruidosos = caracteristicas[etiquetas == -1]\n",
    "\n",
    "# # # Visualizar las áreas densas en la imagen original\n",
    "# # imagen_resultado = image.copy()\n",
    "# # imagen_resultado[etiquetas == -1] = 0  # Establece puntos ruidosos como negro en la imagen resultado\n",
    "\n",
    "# # # Mostrar la imagen original y la imagen con las áreas densas resaltadas\n",
    "# # plt.figure(figsize=(10, 5))\n",
    "# # plt.subplot(1, 2, 1)\n",
    "# # plt.title(\"Imagen Original\")\n",
    "# # plt.imshow(image, cmap='gray')"
   ]
  },
  {
   "cell_type": "code",
   "execution_count": 91,
   "metadata": {},
   "outputs": [
    {
     "ename": "IndexError",
     "evalue": "too many indices for array: array is 1-dimensional, but 2 were indexed",
     "output_type": "error",
     "traceback": [
      "\u001b[1;31m---------------------------------------------------------------------------\u001b[0m",
      "\u001b[1;31mIndexError\u001b[0m                                Traceback (most recent call last)",
      "\u001b[1;32mc:\\Users\\Dayron Cuadros\\Documents\\Uniandes\\C5\\Aprendizaje no supervisado\\DentalSegmentation\\5_Identifying_dense_areas.ipynb Cell 13\u001b[0m line \u001b[0;36m1\n\u001b[0;32m      <a href='vscode-notebook-cell:/c%3A/Users/Dayron%20Cuadros/Documents/Uniandes/C5/Aprendizaje%20no%20supervisado/DentalSegmentation/5_Identifying_dense_areas.ipynb#X14sZmlsZQ%3D%3D?line=4'>5</a>\u001b[0m \u001b[39m# Supongamos que tienes tus datos en un arreglo X y has ajustado el modelo DBSCAN\u001b[39;00m\n\u001b[0;32m      <a href='vscode-notebook-cell:/c%3A/Users/Dayron%20Cuadros/Documents/Uniandes/C5/Aprendizaje%20no%20supervisado/DentalSegmentation/5_Identifying_dense_areas.ipynb#X14sZmlsZQ%3D%3D?line=5'>6</a>\u001b[0m \u001b[39m# Como mencionaste en tu código anterior\u001b[39;00m\n\u001b[0;32m      <a href='vscode-notebook-cell:/c%3A/Users/Dayron%20Cuadros/Documents/Uniandes/C5/Aprendizaje%20no%20supervisado/DentalSegmentation/5_Identifying_dense_areas.ipynb#X14sZmlsZQ%3D%3D?line=6'>7</a>\u001b[0m \u001b[39m# dbscan = DBSCAN(eps=5, min_samples=500)\u001b[39;00m\n\u001b[0;32m      <a href='vscode-notebook-cell:/c%3A/Users/Dayron%20Cuadros/Documents/Uniandes/C5/Aprendizaje%20no%20supervisado/DentalSegmentation/5_Identifying_dense_areas.ipynb#X14sZmlsZQ%3D%3D?line=7'>8</a>\u001b[0m \u001b[39m# clusters = dbscan.fit_predict(X)\u001b[39;00m\n\u001b[0;32m      <a href='vscode-notebook-cell:/c%3A/Users/Dayron%20Cuadros/Documents/Uniandes/C5/Aprendizaje%20no%20supervisado/DentalSegmentation/5_Identifying_dense_areas.ipynb#X14sZmlsZQ%3D%3D?line=8'>9</a>\u001b[0m \n\u001b[0;32m     <a href='vscode-notebook-cell:/c%3A/Users/Dayron%20Cuadros/Documents/Uniandes/C5/Aprendizaje%20no%20supervisado/DentalSegmentation/5_Identifying_dense_areas.ipynb#X14sZmlsZQ%3D%3D?line=9'>10</a>\u001b[0m \u001b[39m# Crear un gráfico de dispersión\u001b[39;00m\n\u001b[0;32m     <a href='vscode-notebook-cell:/c%3A/Users/Dayron%20Cuadros/Documents/Uniandes/C5/Aprendizaje%20no%20supervisado/DentalSegmentation/5_Identifying_dense_areas.ipynb#X14sZmlsZQ%3D%3D?line=10'>11</a>\u001b[0m plt\u001b[39m.\u001b[39mfigure(figsize\u001b[39m=\u001b[39m(\u001b[39m8\u001b[39m, \u001b[39m6\u001b[39m))\n\u001b[1;32m---> <a href='vscode-notebook-cell:/c%3A/Users/Dayron%20Cuadros/Documents/Uniandes/C5/Aprendizaje%20no%20supervisado/DentalSegmentation/5_Identifying_dense_areas.ipynb#X14sZmlsZQ%3D%3D?line=11'>12</a>\u001b[0m plt\u001b[39m.\u001b[39mscatter(image[:, \u001b[39m0\u001b[39;49m], image[:, \u001b[39m1\u001b[39m], c\u001b[39m=\u001b[39mclusters, cmap\u001b[39m=\u001b[39m\u001b[39m'\u001b[39m\u001b[39mviridis\u001b[39m\u001b[39m'\u001b[39m, marker\u001b[39m=\u001b[39m\u001b[39m'\u001b[39m\u001b[39mo\u001b[39m\u001b[39m'\u001b[39m, alpha\u001b[39m=\u001b[39m\u001b[39m0.8\u001b[39m)\n\u001b[0;32m     <a href='vscode-notebook-cell:/c%3A/Users/Dayron%20Cuadros/Documents/Uniandes/C5/Aprendizaje%20no%20supervisado/DentalSegmentation/5_Identifying_dense_areas.ipynb#X14sZmlsZQ%3D%3D?line=13'>14</a>\u001b[0m \u001b[39m# Agregar etiquetas y título\u001b[39;00m\n\u001b[0;32m     <a href='vscode-notebook-cell:/c%3A/Users/Dayron%20Cuadros/Documents/Uniandes/C5/Aprendizaje%20no%20supervisado/DentalSegmentation/5_Identifying_dense_areas.ipynb#X14sZmlsZQ%3D%3D?line=14'>15</a>\u001b[0m plt\u001b[39m.\u001b[39mxlabel(\u001b[39m'\u001b[39m\u001b[39mFeature 1\u001b[39m\u001b[39m'\u001b[39m)\n",
      "\u001b[1;31mIndexError\u001b[0m: too many indices for array: array is 1-dimensional, but 2 were indexed"
     ]
    },
    {
     "data": {
      "text/plain": [
       "<Figure size 800x600 with 0 Axes>"
      ]
     },
     "metadata": {},
     "output_type": "display_data"
    }
   ],
   "source": [
    "import matplotlib.pyplot as plt\n",
    "import numpy as np\n",
    "from sklearn.cluster import DBSCAN\n",
    "\n",
    "# Supongamos que tienes tus datos en un arreglo X y has ajustado el modelo DBSCAN\n",
    "# Como mencionaste en tu código anterior\n",
    "# dbscan = DBSCAN(eps=5, min_samples=500)\n",
    "# clusters = dbscan.fit_predict(X)\n",
    "\n",
    "# Crear un gráfico de dispersión\n",
    "plt.figure(figsize=(8, 6))\n",
    "plt.scatter(image[:, 0], image[:, 1], c=clusters, cmap='viridis', marker='o', alpha=0.8)\n",
    "\n",
    "# Agregar etiquetas y título\n",
    "plt.xlabel('Feature 1')\n",
    "plt.ylabel('Feature 2')\n",
    "plt.title('Resultados del Clustering DBSCAN')\n",
    "\n",
    "# Mostrar el gráfico\n",
    "plt.show()"
   ]
  },
  {
   "cell_type": "code",
   "execution_count": null,
   "metadata": {},
   "outputs": [],
   "source": [
    "# Cargar la imagen de radiografía dental (asegúrate de tener OpenCV instalado)\n",
    "imagen = cv2.imread('radiografia_dental.jpg', 0)  # Carga la imagen en escala de grises\n",
    "\n",
    "# Definir características (intensidad de píxeles)\n",
    "caracteristicas = imagen.reshape(-1, 1)\n",
    "\n",
    "# Crear y ajustar el modelo DBSCAN\n",
    "dbscan = DBSCAN(eps=5, min_samples=500)  # Ajusta los parámetros según tus necesidades\n",
    "etiquetas = dbscan.fit_predict(caracteristicas)\n",
    "\n",
    "# Identificar grupos y puntos ruidosos\n",
    "areas_densas = caracteristicas[etiquetas != -1]\n",
    "puntos_ruidosos = caracteristicas[etiquetas == -1]\n",
    "\n",
    "# Visualizar las áreas densas en la imagen original\n",
    "imagen_resultado = imagen.copy()\n",
    "imagen_resultado[etiquetas == -1] = 0  # Establece puntos ruidosos como negro en la imagen resultado\n",
    "\n",
    "# Mostrar la imagen original y la imagen con las áreas densas resaltadas\n",
    "plt.figure(figsize=(10, 5))\n",
    "plt.subplot(1, 2, 1)\n",
    "plt.title(\"Imagen Original\")\n",
    "plt.imshow(imagen, cmap='gray')\n",
    "\n",
    "plt.subplot(1, 2, 2)\n",
    "plt.title(\"Áreas Densas Resaltadas\")\n",
    "plt.imshow(imagen_resultado, cmap='gray')\n",
    "\n",
    "plt.tight_layout()\n",
    "plt.show()"
   ]
  }
 ],
 "metadata": {
  "kernelspec": {
   "display_name": "NoSupervisado",
   "language": "python",
   "name": "python3"
  },
  "language_info": {
   "codemirror_mode": {
    "name": "ipython",
    "version": 3
   },
   "file_extension": ".py",
   "mimetype": "text/x-python",
   "name": "python",
   "nbconvert_exporter": "python",
   "pygments_lexer": "ipython3",
   "version": "3.10.12"
  },
  "orig_nbformat": 4
 },
 "nbformat": 4,
 "nbformat_minor": 2
}
