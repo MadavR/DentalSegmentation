{
 "cells": [
  {
   "cell_type": "code",
   "execution_count": 16,
   "metadata": {},
   "outputs": [],
   "source": [
    "# import cv2\n",
    "import numpy as np\n",
    "import pandas as pd\n",
    "from sklearn.cluster import DBSCAN\n",
    "import matplotlib.pyplot as plt\n",
    "from pca import pca\n",
    "from sklearn.decomposition import PCA"
   ]
  },
  {
   "cell_type": "code",
   "execution_count": 4,
   "metadata": {},
   "outputs": [],
   "source": [
    "# Cargar el dataset de imagenes reducidas con PCA\n",
    "df_reduced = pd.read_csv(r'3_Reduced_dataset\\X_reduced.csv')"
   ]
  },
  {
   "cell_type": "code",
   "execution_count": null,
   "metadata": {},
   "outputs": [],
   "source": [
    "plt.imshow(np.array(df_reduced[0:1]).reshape(398, 188), cmap='gray')\n",
    "plt.show()"
   ]
  },
  {
   "cell_type": "code",
   "execution_count": 18,
   "metadata": {},
   "outputs": [
    {
     "ename": "TypeError",
     "evalue": "_BasePCA.inverse_transform() missing 1 required positional argument: 'X'",
     "output_type": "error",
     "traceback": [
      "\u001b[1;31m---------------------------------------------------------------------------\u001b[0m",
      "\u001b[1;31mTypeError\u001b[0m                                 Traceback (most recent call last)",
      "\u001b[1;32mc:\\Users\\Dayron Cuadros\\Documents\\Uniandes\\C5\\Aprendizaje no supervisado\\DentalSegmentation\\5_Identifying_dense_areas.ipynb Cell 4\u001b[0m line \u001b[0;36m1\n\u001b[1;32m----> <a href='vscode-notebook-cell:/c%3A/Users/Dayron%20Cuadros/Documents/Uniandes/C5/Aprendizaje%20no%20supervisado/DentalSegmentation/5_Identifying_dense_areas.ipynb#W5sZmlsZQ%3D%3D?line=0'>1</a>\u001b[0m imagen_reconstruida \u001b[39m=\u001b[39m PCA\u001b[39m.\u001b[39;49minverse_transform(np\u001b[39m.\u001b[39;49marray(df_reduced[\u001b[39m0\u001b[39;49m:\u001b[39m1\u001b[39;49m]))\n",
      "\u001b[1;31mTypeError\u001b[0m: _BasePCA.inverse_transform() missing 1 required positional argument: 'X'"
     ]
    }
   ],
   "source": [
    "imagen_reconstruida = PCA.inverse_transform(np.array(df_reduced[0:1]))"
   ]
  },
  {
   "cell_type": "code",
   "execution_count": 7,
   "metadata": {},
   "outputs": [
    {
     "ename": "AttributeError",
     "evalue": "'DataFrame' object has no attribute 'reshape'",
     "output_type": "error",
     "traceback": [
      "\u001b[1;31m---------------------------------------------------------------------------\u001b[0m",
      "\u001b[1;31mAttributeError\u001b[0m                            Traceback (most recent call last)",
      "\u001b[1;32m~\\AppData\\Local\\Temp\\ipykernel_17696\\2315803078.py\u001b[0m in \u001b[0;36m?\u001b[1;34m()\u001b[0m\n\u001b[0;32m      1\u001b[0m \u001b[1;31m# Tomamos la primer imagen\u001b[0m\u001b[1;33m\u001b[0m\u001b[1;33m\u001b[0m\u001b[0m\n\u001b[0;32m      2\u001b[0m \u001b[0mimage\u001b[0m \u001b[1;33m=\u001b[0m \u001b[0mdf_reduced\u001b[0m\u001b[1;33m[\u001b[0m\u001b[1;36m0\u001b[0m\u001b[1;33m:\u001b[0m\u001b[1;36m1\u001b[0m\u001b[1;33m]\u001b[0m\u001b[1;33m\u001b[0m\u001b[1;33m\u001b[0m\u001b[0m\n\u001b[0;32m      3\u001b[0m \u001b[1;33m\u001b[0m\u001b[0m\n\u001b[0;32m      4\u001b[0m \u001b[1;31m# Definir características (intensidad de píxeles)\u001b[0m\u001b[1;33m\u001b[0m\u001b[1;33m\u001b[0m\u001b[0m\n\u001b[1;32m----> 5\u001b[1;33m \u001b[0mcaracteristicas\u001b[0m \u001b[1;33m=\u001b[0m \u001b[0mimage\u001b[0m\u001b[1;33m.\u001b[0m\u001b[0mreshape\u001b[0m\u001b[1;33m(\u001b[0m\u001b[1;33m-\u001b[0m\u001b[1;36m1\u001b[0m\u001b[1;33m,\u001b[0m \u001b[1;36m1\u001b[0m\u001b[1;33m)\u001b[0m\u001b[1;33m\u001b[0m\u001b[1;33m\u001b[0m\u001b[0m\n\u001b[0m\u001b[0;32m      6\u001b[0m \u001b[1;33m\u001b[0m\u001b[0m\n\u001b[0;32m      7\u001b[0m \u001b[1;31m# Crear y ajustar el modelo DBSCAN\u001b[0m\u001b[1;33m\u001b[0m\u001b[1;33m\u001b[0m\u001b[0m\n\u001b[0;32m      8\u001b[0m \u001b[0mdbscan\u001b[0m \u001b[1;33m=\u001b[0m \u001b[0mDBSCAN\u001b[0m\u001b[1;33m(\u001b[0m\u001b[0meps\u001b[0m\u001b[1;33m=\u001b[0m\u001b[1;36m5\u001b[0m\u001b[1;33m,\u001b[0m \u001b[0mmin_samples\u001b[0m\u001b[1;33m=\u001b[0m\u001b[1;36m500\u001b[0m\u001b[1;33m)\u001b[0m  \u001b[1;31m# Ajusta los parámetros según tus necesidades\u001b[0m\u001b[1;33m\u001b[0m\u001b[1;33m\u001b[0m\u001b[0m\n",
      "\u001b[1;32mc:\\anaconda3\\envs\\NoSupervisado\\lib\\site-packages\\pandas\\core\\generic.py\u001b[0m in \u001b[0;36m?\u001b[1;34m(self, name)\u001b[0m\n\u001b[0;32m   5898\u001b[0m             \u001b[1;32mand\u001b[0m \u001b[0mname\u001b[0m \u001b[1;32mnot\u001b[0m \u001b[1;32min\u001b[0m \u001b[0mself\u001b[0m\u001b[1;33m.\u001b[0m\u001b[0m_accessors\u001b[0m\u001b[1;33m\u001b[0m\u001b[1;33m\u001b[0m\u001b[0m\n\u001b[0;32m   5899\u001b[0m             \u001b[1;32mand\u001b[0m \u001b[0mself\u001b[0m\u001b[1;33m.\u001b[0m\u001b[0m_info_axis\u001b[0m\u001b[1;33m.\u001b[0m\u001b[0m_can_hold_identifiers_and_holds_name\u001b[0m\u001b[1;33m(\u001b[0m\u001b[0mname\u001b[0m\u001b[1;33m)\u001b[0m\u001b[1;33m\u001b[0m\u001b[1;33m\u001b[0m\u001b[0m\n\u001b[0;32m   5900\u001b[0m         ):\n\u001b[0;32m   5901\u001b[0m             \u001b[1;32mreturn\u001b[0m \u001b[0mself\u001b[0m\u001b[1;33m[\u001b[0m\u001b[0mname\u001b[0m\u001b[1;33m]\u001b[0m\u001b[1;33m\u001b[0m\u001b[1;33m\u001b[0m\u001b[0m\n\u001b[1;32m-> 5902\u001b[1;33m         \u001b[1;32mreturn\u001b[0m \u001b[0mobject\u001b[0m\u001b[1;33m.\u001b[0m\u001b[0m__getattribute__\u001b[0m\u001b[1;33m(\u001b[0m\u001b[0mself\u001b[0m\u001b[1;33m,\u001b[0m \u001b[0mname\u001b[0m\u001b[1;33m)\u001b[0m\u001b[1;33m\u001b[0m\u001b[1;33m\u001b[0m\u001b[0m\n\u001b[0m",
      "\u001b[1;31mAttributeError\u001b[0m: 'DataFrame' object has no attribute 'reshape'"
     ]
    }
   ],
   "source": [
    "# Tomamos la primer imagen\n",
    "image = df_reduced[0:1]\n",
    "\n",
    "# Definir características (intensidad de píxeles)\n",
    "caracteristicas = image.reshape(-1, 1)\n",
    "\n",
    "# Crear y ajustar el modelo DBSCAN\n",
    "dbscan = DBSCAN(eps=5, min_samples=500)  # Ajusta los parámetros según tus necesidades\n",
    "etiquetas = dbscan.fit_predict(caracteristicas)\n",
    "\n",
    "# Identificar grupos y puntos ruidosos\n",
    "areas_densas = caracteristicas[etiquetas != -1]\n",
    "puntos_ruidosos = caracteristicas[etiquetas == -1]\n",
    "\n",
    "# Visualizar las áreas densas en la imagen original\n",
    "imagen_resultado = image.copy()\n",
    "imagen_resultado[etiquetas == -1] = 0  # Establece puntos ruidosos como negro en la imagen resultado\n",
    "\n",
    "# Mostrar la imagen original y la imagen con las áreas densas resaltadas\n",
    "plt.figure(figsize=(10, 5))\n",
    "plt.subplot(1, 2, 1)\n",
    "plt.title(\"Imagen Original\")\n",
    "plt.imshow(image, cmap='gray')"
   ]
  },
  {
   "cell_type": "code",
   "execution_count": null,
   "metadata": {},
   "outputs": [],
   "source": [
    "# Cargar la imagen de radiografía dental (asegúrate de tener OpenCV instalado)\n",
    "imagen = cv2.imread('radiografia_dental.jpg', 0)  # Carga la imagen en escala de grises\n",
    "\n",
    "# Definir características (intensidad de píxeles)\n",
    "caracteristicas = imagen.reshape(-1, 1)\n",
    "\n",
    "# Crear y ajustar el modelo DBSCAN\n",
    "dbscan = DBSCAN(eps=5, min_samples=500)  # Ajusta los parámetros según tus necesidades\n",
    "etiquetas = dbscan.fit_predict(caracteristicas)\n",
    "\n",
    "# Identificar grupos y puntos ruidosos\n",
    "areas_densas = caracteristicas[etiquetas != -1]\n",
    "puntos_ruidosos = caracteristicas[etiquetas == -1]\n",
    "\n",
    "# Visualizar las áreas densas en la imagen original\n",
    "imagen_resultado = imagen.copy()\n",
    "imagen_resultado[etiquetas == -1] = 0  # Establece puntos ruidosos como negro en la imagen resultado\n",
    "\n",
    "# Mostrar la imagen original y la imagen con las áreas densas resaltadas\n",
    "plt.figure(figsize=(10, 5))\n",
    "plt.subplot(1, 2, 1)\n",
    "plt.title(\"Imagen Original\")\n",
    "plt.imshow(imagen, cmap='gray')\n",
    "\n",
    "plt.subplot(1, 2, 2)\n",
    "plt.title(\"Áreas Densas Resaltadas\")\n",
    "plt.imshow(imagen_resultado, cmap='gray')\n",
    "\n",
    "plt.tight_layout()\n",
    "plt.show()"
   ]
  }
 ],
 "metadata": {
  "kernelspec": {
   "display_name": "NoSupervisado",
   "language": "python",
   "name": "python3"
  },
  "language_info": {
   "codemirror_mode": {
    "name": "ipython",
    "version": 3
   },
   "file_extension": ".py",
   "mimetype": "text/x-python",
   "name": "python",
   "nbconvert_exporter": "python",
   "pygments_lexer": "ipython3",
   "version": "3.10.12"
  },
  "orig_nbformat": 4
 },
 "nbformat": 4,
 "nbformat_minor": 2
}
