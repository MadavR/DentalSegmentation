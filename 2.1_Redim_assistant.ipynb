{
 "cells": [
  {
   "cell_type": "code",
   "execution_count": 2,
   "metadata": {},
   "outputs": [],
   "source": [
    "import ipywidgets as widgets\n",
    "from IPython.display import display\n",
    "from PIL import Image\n",
    "import io"
   ]
  },
  {
   "cell_type": "code",
   "execution_count": 4,
   "metadata": {},
   "outputs": [
    {
     "data": {
      "application/vnd.jupyter.widget-view+json": {
       "model_id": "733cfbe652d44a97a9b60d4a0d427095",
       "version_major": 2,
       "version_minor": 0
      },
      "text/plain": [
       "interactive(children=(FloatSlider(value=100.0, description='Reducción (%)', min=1.0, step=1.0), Output()), _do…"
      ]
     },
     "metadata": {},
     "output_type": "display_data"
    },
    {
     "data": {
      "application/vnd.jupyter.widget-view+json": {
       "model_id": "a9ad09c71fb747cd98a86000ff02dec0",
       "version_major": 2,
       "version_minor": 0
      },
      "text/plain": [
       "Label(value='Ancho: 1991, Alto: 942, Dimensiones: 1875522')"
      ]
     },
     "metadata": {},
     "output_type": "display_data"
    }
   ],
   "source": [
    "# Función para redimensionar y mostrar la imagen\n",
    "def resize_and_display_image(image, reduction_percentage):\n",
    "    img = Image.open(io.BytesIO(image))\n",
    "    width, height = img.size\n",
    "    new_width = int(width * reduction_percentage / 100)\n",
    "    new_height = int(height * reduction_percentage / 100)\n",
    "    resized_img = img.resize((new_width, new_height))\n",
    "    \n",
    "    # Calcula el producto de ancho por alto\n",
    "    product = new_width * new_height\n",
    "    \n",
    "    # Muestra el ancho, el alto y el producto en un Label\n",
    "    info_label.value = f\"Ancho: {new_width}, Alto: {new_height}, Dimensiones: {product}\"\n",
    "    \n",
    "    display(resized_img)\n",
    "\n",
    "# Carga la imagen inicial\n",
    "with open(r\"C:\\Users\\Dayron Cuadros\\Documents\\Uniandes\\C5\\Aprendizaje no supervisado\\Proyecto\\2_Cleaned_dataset\\images\\1_6586.png\", \"rb\") as f:\n",
    "    initial_image = f.read()\n",
    "\n",
    "# Crea un slider para el porcentaje de reducción\n",
    "reduction_slider = widgets.FloatSlider(value=100, min=1, max=100, step=1, description='Reducción (%)')\n",
    "\n",
    "# Crea un Label para mostrar la información de la imagen\n",
    "info_label = widgets.Label(value=\"Ancho: ?, Alto: ?, Dimensiones: ?\")\n",
    "\n",
    "# Crea un widget interactivo que llama a la función cuando el slider cambia\n",
    "interactive_widget = widgets.interactive(resize_and_display_image, image=widgets.fixed(initial_image), reduction_percentage=reduction_slider)\n",
    "\n",
    "display(interactive_widget)\n",
    "display(info_label)"
   ]
  }
 ],
 "metadata": {
  "kernelspec": {
   "display_name": "NoSupervisado",
   "language": "python",
   "name": "python3"
  },
  "language_info": {
   "codemirror_mode": {
    "name": "ipython",
    "version": 3
   },
   "file_extension": ".py",
   "mimetype": "text/x-python",
   "name": "python",
   "nbconvert_exporter": "python",
   "pygments_lexer": "ipython3",
   "version": "3.10.12"
  },
  "orig_nbformat": 4
 },
 "nbformat": 4,
 "nbformat_minor": 2
}
